{
 "cells": [
  {
   "cell_type": "code",
   "execution_count": 202,
   "metadata": {},
   "outputs": [],
   "source": [
    "import matplotlib.pyplot as plt\n",
    "import numpy as np\n",
    "import pandas as pd"
   ]
  },
  {
   "cell_type": "code",
   "execution_count": 203,
   "metadata": {},
   "outputs": [],
   "source": [
    "errs = pd.read_csv(\"errs.csv\")[\"0\"]"
   ]
  },
  {
   "cell_type": "code",
   "execution_count": 204,
   "metadata": {},
   "outputs": [
    {
     "data": {
      "text/plain": [
       "0     0.654665\n",
       "1     0.643610\n",
       "2     0.621402\n",
       "3     0.557034\n",
       "4     0.276958\n",
       "        ...   \n",
       "57    0.175472\n",
       "58    0.175150\n",
       "59    0.175147\n",
       "60    0.174592\n",
       "61    0.174411\n",
       "Name: 0, Length: 62, dtype: float64"
      ]
     },
     "execution_count": 204,
     "metadata": {},
     "output_type": "execute_result"
    }
   ],
   "source": [
    "errs"
   ]
  },
  {
   "cell_type": "code",
   "execution_count": 205,
   "metadata": {},
   "outputs": [
    {
     "data": {
      "text/plain": [
       "[<matplotlib.lines.Line2D at 0xff9f940bd3d0>]"
      ]
     },
     "execution_count": 205,
     "metadata": {},
     "output_type": "execute_result"
    },
    {
     "data": {
      "image/png": "[encoded data removed]",
      "text/plain": [
       "<Figure size 640x480 with 1 Axes>"
      ]
     },
     "metadata": {},
     "output_type": "display_data"
    }
   ],
   "source": [
    "plt.plot(errs)"
   ]
  },
  {
   "cell_type": "code",
   "execution_count": 206,
   "metadata": {},
   "outputs": [],
   "source": [
    "M = pd.read_csv(\"M.csv\").set_index(\"Unnamed: 0\").to_numpy()"
   ]
  },
  {
   "cell_type": "code",
   "execution_count": null,
   "metadata": {},
   "outputs": [
    {
     "data": {
      "text/plain": [
       "array([1., 1., 1., 1., 1., 1., 1., 1.])"
      ]
     },
     "execution_count": 229,
     "metadata": {},
     "output_type": "execute_result"
    }
   ],
   "source": []
  },
  {
   "cell_type": "code",
   "execution_count": 253,
   "metadata": {},
   "outputs": [],
   "source": [
    "Madjust = M / np.sum(M,axis=1)"
   ]
  },
  {
   "cell_type": "code",
   "execution_count": 255,
   "metadata": {},
   "outputs": [
    {
     "data": {
      "text/plain": [
       "array([[0.00000000e+00, 2.77555756e-17, 2.77555756e-17, 2.77555756e-17,\n",
       "        2.77555756e-17, 5.55111512e-17, 1.38777878e-17, 5.55111512e-17],\n",
       "       [8.32667268e-17, 0.00000000e+00, 2.77555756e-17, 1.38777878e-17,\n",
       "        5.55111512e-17, 5.55111512e-17, 1.38777878e-17, 5.55111512e-17],\n",
       "       [2.77555756e-17, 1.38777878e-17, 0.00000000e+00, 2.77555756e-17,\n",
       "        5.55111512e-17, 2.08166817e-17, 5.55111512e-17, 2.77555756e-17],\n",
       "       [4.16333634e-17, 6.93889390e-18, 1.11022302e-16, 0.00000000e+00,\n",
       "        1.38777878e-17, 4.16333634e-17, 5.55111512e-17, 4.16333634e-17],\n",
       "       [1.11022302e-16, 2.77555756e-17, 4.16333634e-17, 2.77555756e-17,\n",
       "        0.00000000e+00, 2.77555756e-17, 1.38777878e-17, 4.16333634e-17],\n",
       "       [5.55111512e-17, 2.77555756e-17, 2.77555756e-17, 1.38777878e-17,\n",
       "        1.38777878e-17, 0.00000000e+00, 2.77555756e-17, 1.11022302e-16],\n",
       "       [4.16333634e-17, 6.93889390e-18, 8.32667268e-17, 5.55111512e-17,\n",
       "        2.77555756e-17, 5.55111512e-17, 0.00000000e+00, 5.55111512e-17],\n",
       "       [5.55111512e-17, 1.38777878e-17, 5.55111512e-17, 2.77555756e-17,\n",
       "        1.38777878e-17, 1.11022302e-16, 2.77555756e-17, 0.00000000e+00]])"
      ]
     },
     "execution_count": 255,
     "metadata": {},
     "output_type": "execute_result"
    }
   ],
   "source": [
    "Madjust - M"
   ]
  },
  {
   "cell_type": "code",
   "execution_count": 256,
   "metadata": {},
   "outputs": [],
   "source": [
    "def TCP(y:np.array,M:np.array, tol=1e-4, max_iter_sub=1000):\n",
    "    # eliminated = np.array([False]*len(y)).reshape(-1,1)\n",
    "    # eliminated[np.isnan(y)] = True # Parties not running are eliminated\n",
    "    yhats = []\n",
    "    yhat = y.copy()\n",
    "    yhats.append(yhat.copy())\n",
    "    yhat[np.isnan(yhat)] = 0\n",
    "    for _ in range(max_iter_sub):\n",
    "        argssorted = np.argsort(yhat.reshape(-1))\n",
    "        argssorted = argssorted[yhat.reshape(-1)[argssorted]>0] # Remove parties that are eliminated\n",
    "        smallest_remaining_party = argssorted[0] # Index of smallest remaining party\n",
    "        flow = np.zeros_like(yhat)\n",
    "        flow[smallest_remaining_party] = 1\n",
    "        flow =  M @ flow\n",
    "\n",
    "        yhat = yhat + flow*yhat[smallest_remaining_party]\n",
    "        yhat[smallest_remaining_party,0] = 0\n",
    "\n",
    "        yhat[yhat<tol] = 0\n",
    "        yhat = yhat / np.nansum(yhat)\n",
    "        yhats.append(yhat.copy())\n",
    "\n",
    "        if sum(yhat!=0)[0] == 2:\n",
    "            return yhat,yhats #,yhats#, eliminated\n",
    "    return yhat,yhats"
   ]
  },
  {
   "cell_type": "code",
   "execution_count": 257,
   "metadata": {},
   "outputs": [
    {
     "data": {
      "text/html": [
       "<div>\n",
       "<style scoped>\n",
       "    .dataframe tbody tr th:only-of-type {\n",
       "        vertical-align: middle;\n",
       "    }\n",
       "\n",
       "    .dataframe tbody tr th {\n",
       "        vertical-align: top;\n",
       "    }\n",
       "\n",
       "    .dataframe thead th {\n",
       "        text-align: right;\n",
       "    }\n",
       "</style>\n",
       "<table border=\"1\" class=\"dataframe\">\n",
       "  <thead>\n",
       "    <tr style=\"text-align: right;\">\n",
       "      <th></th>\n",
       "      <th>StateAb</th>\n",
       "      <th>DivisionID</th>\n",
       "      <th>DivisionNm</th>\n",
       "      <th>CandidateID</th>\n",
       "      <th>Surname</th>\n",
       "      <th>GivenNm</th>\n",
       "      <th>BallotPosition</th>\n",
       "      <th>Elected</th>\n",
       "      <th>HistoricElected</th>\n",
       "      <th>PartyAb</th>\n",
       "      <th>PartyNm</th>\n",
       "      <th>OrdinaryVotes</th>\n",
       "      <th>AbsentVotes</th>\n",
       "      <th>ProvisionalVotes</th>\n",
       "      <th>PrePollVotes</th>\n",
       "      <th>PostalVotes</th>\n",
       "      <th>TotalVotes</th>\n",
       "      <th>Swing</th>\n",
       "    </tr>\n",
       "  </thead>\n",
       "  <tbody>\n",
       "    <tr>\n",
       "      <th>0</th>\n",
       "      <td>ACT</td>\n",
       "      <td>318</td>\n",
       "      <td>Bean</td>\n",
       "      <td>36239</td>\n",
       "      <td>CONWAY</td>\n",
       "      <td>Sean</td>\n",
       "      <td>1</td>\n",
       "      <td>N</td>\n",
       "      <td>N</td>\n",
       "      <td>UAP</td>\n",
       "      <td>United Australia Party</td>\n",
       "      <td>2479</td>\n",
       "      <td>72</td>\n",
       "      <td>7</td>\n",
       "      <td>110</td>\n",
       "      <td>163</td>\n",
       "      <td>2831</td>\n",
       "      <td>0.48</td>\n",
       "    </tr>\n",
       "    <tr>\n",
       "      <th>1</th>\n",
       "      <td>ACT</td>\n",
       "      <td>318</td>\n",
       "      <td>Bean</td>\n",
       "      <td>37455</td>\n",
       "      <td>AMBARD</td>\n",
       "      <td>Benjamin</td>\n",
       "      <td>2</td>\n",
       "      <td>N</td>\n",
       "      <td>N</td>\n",
       "      <td>ONP</td>\n",
       "      <td>Pauline Hanson's One Nation</td>\n",
       "      <td>2304</td>\n",
       "      <td>49</td>\n",
       "      <td>5</td>\n",
       "      <td>108</td>\n",
       "      <td>214</td>\n",
       "      <td>2680</td>\n",
       "      <td>2.72</td>\n",
       "    </tr>\n",
       "    <tr>\n",
       "      <th>2</th>\n",
       "      <td>ACT</td>\n",
       "      <td>318</td>\n",
       "      <td>Bean</td>\n",
       "      <td>36231</td>\n",
       "      <td>SMITH</td>\n",
       "      <td>David</td>\n",
       "      <td>3</td>\n",
       "      <td>Y</td>\n",
       "      <td>Y</td>\n",
       "      <td>ALP</td>\n",
       "      <td>Australian Labor Party</td>\n",
       "      <td>35883</td>\n",
       "      <td>590</td>\n",
       "      <td>106</td>\n",
       "      <td>915</td>\n",
       "      <td>3566</td>\n",
       "      <td>41060</td>\n",
       "      <td>3.59</td>\n",
       "    </tr>\n",
       "    <tr>\n",
       "      <th>3</th>\n",
       "      <td>ACT</td>\n",
       "      <td>318</td>\n",
       "      <td>Bean</td>\n",
       "      <td>32130</td>\n",
       "      <td>CHRISTIE</td>\n",
       "      <td>Jamie</td>\n",
       "      <td>4</td>\n",
       "      <td>N</td>\n",
       "      <td>N</td>\n",
       "      <td>IND</td>\n",
       "      <td>Independent</td>\n",
       "      <td>6953</td>\n",
       "      <td>124</td>\n",
       "      <td>11</td>\n",
       "      <td>176</td>\n",
       "      <td>759</td>\n",
       "      <td>8023</td>\n",
       "      <td>-0.12</td>\n",
       "    </tr>\n",
       "    <tr>\n",
       "      <th>4</th>\n",
       "      <td>ACT</td>\n",
       "      <td>318</td>\n",
       "      <td>Bean</td>\n",
       "      <td>36243</td>\n",
       "      <td>SAVERY</td>\n",
       "      <td>Kathryn Jane</td>\n",
       "      <td>5</td>\n",
       "      <td>N</td>\n",
       "      <td>N</td>\n",
       "      <td>GRN</td>\n",
       "      <td>The Greens</td>\n",
       "      <td>12474</td>\n",
       "      <td>396</td>\n",
       "      <td>42</td>\n",
       "      <td>489</td>\n",
       "      <td>1158</td>\n",
       "      <td>14559</td>\n",
       "      <td>1.71</td>\n",
       "    </tr>\n",
       "  </tbody>\n",
       "</table>\n",
       "</div>"
      ],
      "text/plain": [
       "  StateAb  DivisionID DivisionNm  CandidateID   Surname       GivenNm  \\\n",
       "0     ACT         318       Bean        36239    CONWAY          Sean   \n",
       "1     ACT         318       Bean        37455    AMBARD      Benjamin   \n",
       "2     ACT         318       Bean        36231     SMITH         David   \n",
       "3     ACT         318       Bean        32130  CHRISTIE         Jamie   \n",
       "4     ACT         318       Bean        36243    SAVERY  Kathryn Jane   \n",
       "\n",
       "   BallotPosition Elected HistoricElected PartyAb  \\\n",
       "0               1       N               N     UAP   \n",
       "1               2       N               N     ONP   \n",
       "2               3       Y               Y     ALP   \n",
       "3               4       N               N     IND   \n",
       "4               5       N               N     GRN   \n",
       "\n",
       "                       PartyNm  OrdinaryVotes  AbsentVotes  ProvisionalVotes  \\\n",
       "0       United Australia Party           2479           72                 7   \n",
       "1  Pauline Hanson's One Nation           2304           49                 5   \n",
       "2       Australian Labor Party          35883          590               106   \n",
       "3                  Independent           6953          124                11   \n",
       "4                   The Greens          12474          396                42   \n",
       "\n",
       "   PrePollVotes  PostalVotes  TotalVotes  Swing  \n",
       "0           110          163        2831   0.48  \n",
       "1           108          214        2680   2.72  \n",
       "2           915         3566       41060   3.59  \n",
       "3           176          759        8023  -0.12  \n",
       "4           489         1158       14559   1.71  "
      ]
     },
     "execution_count": 257,
     "metadata": {},
     "output_type": "execute_result"
    }
   ],
   "source": [
    "first_pref_df = pd.read_csv(\"HouseFirstPrefsByCandidateByVoteTypeDownload-27966.csv\",header=1)\n",
    "\n",
    "parties_collected = ['UAPP', 'ON', 'ALP', 'IND', 'GRN', 'LP','NP','CLP','LNP','XEN', 'KAP']\n",
    "party_mappers = {\n",
    "    'UAPP':'UAP', \n",
    "    'ON':'ONP',\n",
    "    'ALP':'ALP', \n",
    "    'IND':'IND', \n",
    "    'GRN':'GRN',\n",
    "    'GVIC':'GRN',\n",
    "    'LP':'LNP',\n",
    "    'NP':'LNP',\n",
    "    'CLP':'LNP',\n",
    "    'LNP':'LNP',\n",
    "    'XEN':'IND',\n",
    "    'KAP':'IND',\n",
    "}\n",
    "\n",
    "# modeled_parties = ['UAP', 'ONP', 'ALP', 'GRN', 'LIB', 'NAT', 'CLP', 'LNP', 'IND', 'KAP', 'TEAL', 'OTH']\n",
    "modeled_parties = ['UAP', 'ONP', 'ALP', 'GRN', 'LNP', 'IND', 'TEAL', 'OTH']\n",
    "\n",
    "def partymap(row):\n",
    "    party = row['PartyAb']\n",
    "    if party in modeled_parties:\n",
    "        party = party\n",
    "    elif party in party_mappers.keys():\n",
    "        party = party_mappers[party]\n",
    "    elif pd.isna(party):\n",
    "        if pd.isna(row['Surname']):\n",
    "            party = \"Informal\"\n",
    "        else:\n",
    "            party = \"IND\"\n",
    "    else:\n",
    "        party = \"OTH\"\n",
    "    row['PartyAb'] = party\n",
    "    return row\n",
    "\n",
    "\n",
    "\n",
    "first_pref_df = first_pref_df.apply(partymap,axis=1)\n",
    "first_pref_df.head()"
   ]
  },
  {
   "cell_type": "code",
   "execution_count": 258,
   "metadata": {},
   "outputs": [],
   "source": [
    "teal_candidates = pd.read_csv(\"teals.csv\")\n",
    "teal_candidates.head()\n",
    "\n",
    "for idx,teal in teal_candidates.iterrows():\n",
    "    givenNm = teal['GivenNm']\n",
    "    surname = teal['Surname']\n",
    "    division = teal['DivisionNm']\n",
    "    first_pref_df.loc[(first_pref_df[['GivenNm','Surname','DivisionNm']]==[givenNm,surname,division]).all(axis=1),'PartyAb']=\"TEAL\""
   ]
  },
  {
   "cell_type": "code",
   "execution_count": 277,
   "metadata": {},
   "outputs": [
    {
     "data": {
      "text/html": [
       "<div>\n",
       "<style scoped>\n",
       "    .dataframe tbody tr th:only-of-type {\n",
       "        vertical-align: middle;\n",
       "    }\n",
       "\n",
       "    .dataframe tbody tr th {\n",
       "        vertical-align: top;\n",
       "    }\n",
       "\n",
       "    .dataframe thead th {\n",
       "        text-align: right;\n",
       "    }\n",
       "</style>\n",
       "<table border=\"1\" class=\"dataframe\">\n",
       "  <thead>\n",
       "    <tr style=\"text-align: right;\">\n",
       "      <th>PartyAb</th>\n",
       "      <th>UAP</th>\n",
       "      <th>ONP</th>\n",
       "      <th>ALP</th>\n",
       "      <th>GRN</th>\n",
       "      <th>LNP</th>\n",
       "      <th>IND</th>\n",
       "      <th>TEAL</th>\n",
       "      <th>OTH</th>\n",
       "    </tr>\n",
       "  </thead>\n",
       "  <tbody>\n",
       "    <tr>\n",
       "      <th>TotalVotes</th>\n",
       "      <td>1.9</td>\n",
       "      <td>2.2</td>\n",
       "      <td>26.7</td>\n",
       "      <td>26.7</td>\n",
       "      <td>36.9</td>\n",
       "      <td>2.1</td>\n",
       "      <td>NaN</td>\n",
       "      <td>3.5</td>\n",
       "    </tr>\n",
       "  </tbody>\n",
       "</table>\n",
       "</div>"
      ],
      "text/plain": [
       "PartyAb     UAP  ONP   ALP   GRN   LNP  IND  TEAL  OTH\n",
       "TotalVotes  1.9  2.2  26.7  26.7  36.9  2.1   NaN  3.5"
      ]
     },
     "execution_count": 277,
     "metadata": {},
     "output_type": "execute_result"
    }
   ],
   "source": [
    "divisionName = \"Brisbane\"\n",
    "\n",
    "d= first_pref_df[first_pref_df[\"DivisionNm\"] == divisionName]\n",
    "primary = pd.pivot_table(d, columns='PartyAb', values='TotalVotes', aggfunc='sum')\n",
    "for party in modeled_parties:\n",
    "    if party not in primary.columns:\n",
    "        primary[party] = np.nan\n",
    "primarynumpy = primary.reindex(modeled_parties,axis=1).to_numpy().reshape(-1,1)\n",
    "primarynumpy = primarynumpy / np.nansum(primarynumpy)\n",
    "(primary.reindex(modeled_parties,axis=1)/ np.nansum(primary)*100).round(1)"
   ]
  },
  {
   "cell_type": "code",
   "execution_count": 278,
   "metadata": {},
   "outputs": [
    {
     "data": {
      "text/plain": [
       "UAP     0.000000\n",
       "ONP     0.000000\n",
       "ALP     0.000000\n",
       "GRN     0.471014\n",
       "LNP     0.528986\n",
       "IND     0.000000\n",
       "TEAL    0.000000\n",
       "OTH     0.000000\n",
       "dtype: float64"
      ]
     },
     "execution_count": 278,
     "metadata": {},
     "output_type": "execute_result"
    }
   ],
   "source": [
    "ydist, ys = TCP(primarynumpy,M)\n",
    "pd.Series(ydist.reshape(-1),index=modeled_parties)"
   ]
  },
  {
   "cell_type": "code",
   "execution_count": 279,
   "metadata": {},
   "outputs": [
    {
     "data": {
      "image/png": "[encoded data removed]",
      "text/plain": [
       "<Figure size 1200x600 with 1 Axes>"
      ]
     },
     "metadata": {},
     "output_type": "display_data"
    }
   ],
   "source": [
    "fig, ax = plt.subplots(1,1,figsize=(12,6))\n",
    "pd.DataFrame(np.concatenate(ys, axis=1).T, columns=modeled_parties).plot(ax=ax)\n",
    "plt.show()"
   ]
  },
  {
   "cell_type": "code",
   "execution_count": null,
   "metadata": {},
   "outputs": [],
   "source": []
  }
 ],
 "metadata": {
  "kernelspec": {
   "display_name": ".venv",
   "language": "python",
   "name": "python3"
  },
  "language_info": {
   "codemirror_mode": {
    "name": "ipython",
    "version": 3
   },
   "file_extension": ".py",
   "mimetype": "text/x-python",
   "name": "python",
   "nbconvert_exporter": "python",
   "pygments_lexer": "ipython3",
   "version": "3.12.3"
  }
 },
 "nbformat": 4,
 "nbformat_minor": 2
}
