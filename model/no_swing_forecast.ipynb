{
 "cells": [
  {
   "cell_type": "code",
   "execution_count": 61,
   "metadata": {},
   "outputs": [],
   "source": [
    "import os,sys\n",
    "import numpy as np\n",
    "import pandas as pd\n",
    "\n",
    "# abspath = os.path.abspath(__file__)\n",
    "# dname = os.path.dirname(abspath)\n",
    "# os.chdir(dname) "
   ]
  },
  {
   "cell_type": "code",
   "execution_count": 62,
   "metadata": {},
   "outputs": [],
   "source": [
    "redistributed_primaries = pd.read_csv(\"processed/pct_post_redistribution.csv\", index_col=\"DivisionNm\")\n",
    "redistributed_demographics = pd.read_csv(\"processed/pct_2025_demographic_facts.csv\", index_col=\"DivisionNm\")\n",
    "candidates_2025 = pd.read_csv(\"processed/candidates.csv\", index_col=\"DivisionNm\")"
   ]
  },
  {
   "cell_type": "code",
   "execution_count": 63,
   "metadata": {},
   "outputs": [],
   "source": [
    "prepoll_primaries = pd.DataFrame(index=candidates_2025.index, columns=candidates_2025.columns, dtype=float)"
   ]
  },
  {
   "cell_type": "code",
   "execution_count": 64,
   "metadata": {},
   "outputs": [],
   "source": [
    "mapper = {\"ALP\":\"ALP\",'CLP':\"LNP\",\"GRN\":\"GRN\", \"IND\":\"IND\", \"JLN\":\"IND\",\"KAP\":\"IND\", \"LNP\":\"LNP\", \"LP\":\"LNP\", \"NP\":\"LNP\", \"ON\":\"ONP\", \"TEAL\":\"TEAL\", \"XEN\":\"IND\"}\n",
    "for col in redistributed_primaries.columns:\n",
    "    if col not in mapper:\n",
    "        mapper[col] = \"OTH\"\n",
    "\n",
    "redistributed_primaries_parties = redistributed_primaries.rename(mapper,axis=1).T.groupby(level=0).sum().T"
   ]
  },
  {
   "cell_type": "code",
   "execution_count": 65,
   "metadata": {},
   "outputs": [],
   "source": [
    "for divisionNm, row in candidates_2025.iterrows():\n",
    "    for partyAb, competing in row.items():\n",
    "        if competing:\n",
    "            prepoll_primaries.loc[divisionNm, partyAb] = redistributed_primaries_parties.loc[divisionNm, partyAb]"
   ]
  },
  {
   "cell_type": "code",
   "execution_count": 66,
   "metadata": {},
   "outputs": [],
   "source": [
    "iidx_to_impute = list(zip(*np.where(((prepoll_primaries==0) | (prepoll_primaries.isna())) & (candidates_2025>0))))\n",
    "idx_to_impute = [(prepoll_primaries.index[val[0]], prepoll_primaries.columns[val[1]]) for val in iidx_to_impute]\n",
    "\n",
    "iidx_to_remove = list(zip(*np.where((redistributed_primaries_parties>0) & (candidates_2025==0))))\n",
    "idx_to_remove = [(redistributed_primaries_parties.index[val[0]], redistributed_primaries_parties.columns[val[1]]) for val in iidx_to_remove]"
   ]
  },
  {
   "cell_type": "code",
   "execution_count": 75,
   "metadata": {},
   "outputs": [
    {
     "data": {
      "text/plain": [
       "Index(['ALP', 'GRN', 'IND', 'LNP', 'ONP', 'OTH', 'TEAL'], dtype='object')"
      ]
     },
     "execution_count": 75,
     "metadata": {},
     "output_type": "execute_result"
    }
   ],
   "source": [
    "prepoll_primaries.columns"
   ]
  },
  {
   "cell_type": "code",
   "execution_count": 81,
   "metadata": {},
   "outputs": [],
   "source": [
    "M = pd.read_csv(\"M.csv\",index_col=\"Unnamed: 0\")\n",
    "M = M[prepoll_primaries.columns].loc[prepoll_primaries.columns].to_numpy()"
   ]
  },
  {
   "cell_type": "code",
   "execution_count": 68,
   "metadata": {},
   "outputs": [],
   "source": [
    "def eliminate_idx(idx,y:np.array,M:np.array, tol=1e-4, max_iter_sub=1000):\n",
    "    if type(idx)==str:\n",
    "        idx = ['ALP', 'GRN', 'IND', 'LNP', 'ONP', 'OTH', 'TEAL'].index(idx)\n",
    "    if type(y)==pd.Series:\n",
    "        yhat= y.to_numpy()\n",
    "    else:\n",
    "        yhat = y.copy()\n",
    "\n",
    "    eliminated = (yhat==0)\n",
    "\n",
    "    eliminated[idx] = True\n",
    "\n",
    "    eliminating_idx = idx\n",
    "\n",
    "    counter = 0\n",
    "    while sum(yhat[eliminated]>0):\n",
    "        flow = np.zeros_like(yhat)\n",
    "        flow[eliminating_idx] = 1\n",
    "        flow =  M @ flow\n",
    "\n",
    "        yhat = yhat + flow*yhat[idx]\n",
    "        yhat[eliminating_idx] = 0\n",
    "\n",
    "        yhat[yhat<tol] = 0\n",
    "        yhat = yhat / np.nansum(yhat)\n",
    "\n",
    "\n",
    "\n",
    "        valid_indices = np.where((eliminated) & (yhat.reshape(-1) > 0))[0]\n",
    "        if len(valid_indices)>0:\n",
    "            eliminating_idx = valid_indices[0]\n",
    "        else:\n",
    "            break\n",
    "\n",
    "        counter += 1\n",
    "        if counter > max_iter_sub:\n",
    "            break\n",
    "    \n",
    "    if type(y)==pd.Series:\n",
    "        return pd.Series(yhat, index=y.index)\n",
    "    return yhat\n",
    "\n",
    "def eliminate_indices(indices,y:np.array,M:np.array, tol=1e-4, max_iter_sub=1000):\n",
    "    yhat = y.copy()\n",
    "    for idx in indices:\n",
    "        yhat = eliminate_idx(idx,yhat,M,tol,max_iter_sub)\n",
    "    return yhat\n",
    "\n",
    "def eliminate_smallest(y:np.array,M:np.array, tol=1e-4, max_iter_sub=1000):\n",
    "    idx = np.where(y==np.min(y[y>0]))[0][0]\n",
    "    return eliminate_idx(idx,y,M,tol,max_iter_sub)\n",
    "\n",
    "def TCP(y:np.array,M:np.array, tol=1e-4, max_iter_sub=1000):\n",
    "    non_eliminated = sum(y>0)\n",
    "    yhat = y.copy()\n",
    "    while non_eliminated>2:\n",
    "        yhat = eliminate_smallest(yhat,M,tol,max_iter_sub)\n",
    "        non_eliminated = sum(yhat>0)\n",
    "    return yhat"
   ]
  },
  {
   "cell_type": "code",
   "execution_count": 69,
   "metadata": {},
   "outputs": [],
   "source": [
    "for (divisionNm, partyAb) in idx_to_remove:\n",
    "    yhat = prepoll_primaries.loc[divisionNm]\n",
    "    yhat[partyAb] = redistributed_primaries_parties.loc[divisionNm, partyAb]\n",
    "    yhat = eliminate_idx(partyAb,yhat,M)\n",
    "    prepoll_primaries.loc[divisionNm] = yhat"
   ]
  },
  {
   "cell_type": "code",
   "execution_count": 73,
   "metadata": {},
   "outputs": [
    {
     "data": {
      "text/plain": [
       "[0.3130022518638911,\n",
       " 0.3438556894988706,\n",
       " 0.0245878269598813,\n",
       " 0.2372835419309349,\n",
       " 0.0129503514375905,\n",
       " 0.06832033830883082,\n",
       " 0.0]"
      ]
     },
     "execution_count": 73,
     "metadata": {},
     "output_type": "execute_result"
    }
   ],
   "source": [
    "redistributed_primaries_parties.loc['Macnamara'].to_list()"
   ]
  },
  {
   "cell_type": "code",
   "execution_count": null,
   "metadata": {},
   "outputs": [],
   "source": []
  }
 ],
 "metadata": {
  "kernelspec": {
   "display_name": ".venv",
   "language": "python",
   "name": "python3"
  },
  "language_info": {
   "codemirror_mode": {
    "name": "ipython",
    "version": 3
   },
   "file_extension": ".py",
   "mimetype": "text/x-python",
   "name": "python",
   "nbconvert_exporter": "python",
   "pygments_lexer": "ipython3",
   "version": "3.12.3"
  }
 },
 "nbformat": 4,
 "nbformat_minor": 2
}
