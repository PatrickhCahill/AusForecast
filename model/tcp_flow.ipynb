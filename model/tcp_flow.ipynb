{
 "cells": [
  {
   "cell_type": "code",
   "execution_count": 21,
   "metadata": {},
   "outputs": [],
   "source": [
    "# We use M to guess the tcp finalists. But that is pretty conservative about the flow of preferences to the non-lead candidate because of the way that it calculates flows\n",
    "# Hence, we use this actually calculate the expected flow from each of the parties to the final two candidates using direct tcp flow data from the election.\n",
    "\n",
    "\n",
    "import pandas as pd\n",
    "import numpy as np\n",
    "\n",
    "tpp_flows = pd.read_csv(\"raw/HouseTppFlowByStateByPartyDownload-27966.csv\",header=1)\n",
    "tcp_flows = pd.read_csv(\"raw/HouseTcpFlowByStateByPartyDownload-27966.csv\",header=1)"
   ]
  },
  {
   "cell_type": "code",
   "execution_count": 22,
   "metadata": {},
   "outputs": [],
   "source": [
    "modeled_parties = ['GRN', 'ONP', 'IND']\n",
    "def handle_parties(row):\n",
    "    if row['PartyAb'] in modeled_parties:\n",
    "        return row['PartyAb']\n",
    "    elif not pd.isna(row['PartyAb']):\n",
    "        return 'OTH'\n",
    "    else:\n",
    "        return np.nan\n",
    "tpp_flows['PartyAb'] = tpp_flows.apply(handle_parties, axis=1)\n",
    "tpp_flows = tpp_flows.dropna(axis=0)[['PartyAb','Liberal/National Coalition Transfer Votes','Australian Labor Party Transfer Votes']]\n",
    "tpp_flows = tpp_flows.rename(columns = {\"Liberal/National Coalition Transfer Votes\":\"LNP\",\"Australian Labor Party Transfer Votes\":\"ALP\"}).groupby(\"PartyAb\").sum().apply(lambda x: x / x.sum(), axis=1)"
   ]
  },
  {
   "cell_type": "code",
   "execution_count": 23,
   "metadata": {},
   "outputs": [],
   "source": [
    "modeled_parties = ['ALP', 'LNP', \"GRN\", \"ONP\", \"IND\", \"OTH\"]\n",
    "party_mappers = {\n",
    "    'ON':'ONP',\n",
    "    'ALP':'ALP', \n",
    "    'IND':'IND', \n",
    "    'GRN':'GRN',\n",
    "    'GVIC':'GRN',\n",
    "    'LP':'LNP',\n",
    "    'NP':'LNP',\n",
    "    'CLP':'LNP',\n",
    "    'LNP':'LNP',\n",
    "    'XEN':'IND',\n",
    "    'KAP':'IND',\n",
    "}\n",
    "\n",
    "def handle_parties(row, colname):\n",
    "    if row[colname] in party_mappers.keys(): \n",
    "        return party_mappers[row[colname]]\n",
    "    elif not pd.isna(row[colname]):\n",
    "        return 'OTH'\n",
    "    else:\n",
    "        return np.nan\n",
    "    \n",
    "tcp_flows['FromPartyGroupAb'] = tcp_flows.apply(lambda row: handle_parties(row,'FromPartyGroupAb'), axis=1)\n",
    "tcp_flows['ToPartyDisplayAb'] = tcp_flows.apply(lambda row: handle_parties(row,'ToPartyDisplayAb'), axis=1)\n",
    "\n",
    "tcp_flows = tcp_flows.dropna(axis=0)[['FromPartyGroupAb','ToPartyDisplayAb','TransferVotes']]"
   ]
  },
  {
   "cell_type": "code",
   "execution_count": 33,
   "metadata": {},
   "outputs": [],
   "source": [
    "M = tcp_flows.pivot_table(index=['FromPartyGroupAb'], columns='ToPartyDisplayAb', values='TransferVotes', aggfunc='sum')\n",
    "\n",
    "M['ONP'] = 0\n",
    "\n",
    "M = M.apply(lambda x: x / x.sum(), axis=1)"
   ]
  },
  {
   "cell_type": "code",
   "execution_count": null,
   "metadata": {},
   "outputs": [],
   "source": [
    "y = np.array([0.2906573286580627,\n",
    " 0.2912008219092291,\n",
    " 0.000267196539583,\n",
    " 0.3460137277414765,\n",
    " 0.0222447279860898,\n",
    " 0.0])"
   ]
  },
  {
   "cell_type": "code",
   "execution_count": 43,
   "metadata": {},
   "outputs": [],
   "source": [
    "M['OTH'] = 0"
   ]
  },
  {
   "cell_type": "code",
   "execution_count": 46,
   "metadata": {},
   "outputs": [],
   "source": [
    "M = M[[\"ONP\",\"ALP\",\"GRN\",\"LNP\",\"IND\",\"OTH\"]].loc[[\"ONP\",\"ALP\",\"GRN\",\"LNP\",\"IND\",\"OTH\"]].to_numpy()"
   ]
  },
  {
   "cell_type": "code",
   "execution_count": 47,
   "metadata": {},
   "outputs": [
    {
     "ename": "ValueError",
     "evalue": "matmul: Input operand 1 has a mismatch in its core dimension 0, with gufunc signature (n?,k),(k,m?)->(n?,m?) (size 7 is different from 6)",
     "output_type": "error",
     "traceback": [
      "\u001b[0;31m---------------------------------------------------------------------------\u001b[0m",
      "\u001b[0;31mValueError\u001b[0m                                Traceback (most recent call last)",
      "Cell \u001b[0;32mIn[47], line 1\u001b[0m\n\u001b[0;32m----> 1\u001b[0m \u001b[43mTCP\u001b[49m\u001b[43m(\u001b[49m\u001b[43my\u001b[49m\u001b[43m,\u001b[49m\u001b[43m \u001b[49m\u001b[43mM\u001b[49m\u001b[43m)\u001b[49m\n",
      "Cell \u001b[0;32mIn[35], line 57\u001b[0m, in \u001b[0;36mTCP\u001b[0;34m(y, M, tol, max_iter_sub)\u001b[0m\n\u001b[1;32m     55\u001b[0m yhat \u001b[38;5;241m=\u001b[39m y\u001b[38;5;241m.\u001b[39mcopy()\n\u001b[1;32m     56\u001b[0m \u001b[38;5;28;01mwhile\u001b[39;00m non_eliminated\u001b[38;5;241m>\u001b[39m\u001b[38;5;241m2\u001b[39m:\n\u001b[0;32m---> 57\u001b[0m     yhat \u001b[38;5;241m=\u001b[39m \u001b[43meliminate_smallest\u001b[49m\u001b[43m(\u001b[49m\u001b[43myhat\u001b[49m\u001b[43m,\u001b[49m\u001b[43mM\u001b[49m\u001b[43m,\u001b[49m\u001b[43mtol\u001b[49m\u001b[43m,\u001b[49m\u001b[43mmax_iter_sub\u001b[49m\u001b[43m)\u001b[49m\n\u001b[1;32m     58\u001b[0m     non_eliminated \u001b[38;5;241m=\u001b[39m \u001b[38;5;28msum\u001b[39m(yhat\u001b[38;5;241m>\u001b[39m\u001b[38;5;241m0\u001b[39m)\n\u001b[1;32m     59\u001b[0m \u001b[38;5;28;01mreturn\u001b[39;00m yhat\n",
      "Cell \u001b[0;32mIn[35], line 51\u001b[0m, in \u001b[0;36meliminate_smallest\u001b[0;34m(y, M, tol, max_iter_sub)\u001b[0m\n\u001b[1;32m     49\u001b[0m \u001b[38;5;28;01mdef\u001b[39;00m\u001b[38;5;250m \u001b[39m\u001b[38;5;21meliminate_smallest\u001b[39m(y:np\u001b[38;5;241m.\u001b[39marray,M:np\u001b[38;5;241m.\u001b[39marray, tol\u001b[38;5;241m=\u001b[39m\u001b[38;5;241m1e-4\u001b[39m, max_iter_sub\u001b[38;5;241m=\u001b[39m\u001b[38;5;241m1000\u001b[39m):\n\u001b[1;32m     50\u001b[0m     idx \u001b[38;5;241m=\u001b[39m np\u001b[38;5;241m.\u001b[39mwhere(y\u001b[38;5;241m==\u001b[39mnp\u001b[38;5;241m.\u001b[39mmin(y[y\u001b[38;5;241m>\u001b[39m\u001b[38;5;241m0\u001b[39m]))[\u001b[38;5;241m0\u001b[39m][\u001b[38;5;241m0\u001b[39m]\n\u001b[0;32m---> 51\u001b[0m     \u001b[38;5;28;01mreturn\u001b[39;00m \u001b[43meliminate_idx\u001b[49m\u001b[43m(\u001b[49m\u001b[43midx\u001b[49m\u001b[43m,\u001b[49m\u001b[43my\u001b[49m\u001b[43m,\u001b[49m\u001b[43mM\u001b[49m\u001b[43m,\u001b[49m\u001b[43mtol\u001b[49m\u001b[43m,\u001b[49m\u001b[43mmax_iter_sub\u001b[49m\u001b[43m)\u001b[49m\n",
      "Cell \u001b[0;32mIn[35], line 19\u001b[0m, in \u001b[0;36meliminate_idx\u001b[0;34m(idx, y, M, tol, max_iter_sub)\u001b[0m\n\u001b[1;32m     17\u001b[0m flow \u001b[38;5;241m=\u001b[39m np\u001b[38;5;241m.\u001b[39mzeros_like(yhat)\n\u001b[1;32m     18\u001b[0m flow[eliminating_idx] \u001b[38;5;241m=\u001b[39m \u001b[38;5;241m1\u001b[39m\n\u001b[0;32m---> 19\u001b[0m flow \u001b[38;5;241m=\u001b[39m  \u001b[43mM\u001b[49m\u001b[43m \u001b[49m\u001b[38;5;241;43m@\u001b[39;49m\u001b[43m \u001b[49m\u001b[43mflow\u001b[49m\n\u001b[1;32m     21\u001b[0m yhat \u001b[38;5;241m=\u001b[39m yhat \u001b[38;5;241m+\u001b[39m flow\u001b[38;5;241m*\u001b[39myhat[idx]\n\u001b[1;32m     22\u001b[0m yhat[eliminating_idx] \u001b[38;5;241m=\u001b[39m \u001b[38;5;241m0\u001b[39m\n",
      "\u001b[0;31mValueError\u001b[0m: matmul: Input operand 1 has a mismatch in its core dimension 0, with gufunc signature (n?,k),(k,m?)->(n?,m?) (size 7 is different from 6)"
     ]
    }
   ],
   "source": [
    "TCP(y, M)"
   ]
  },
  {
   "cell_type": "code",
   "execution_count": 35,
   "metadata": {},
   "outputs": [],
   "source": [
    "def eliminate_idx(idx,y:np.array,M:np.array, tol=1e-4, max_iter_sub=1000):\n",
    "    if type(idx)==str:\n",
    "        idx = ['ALP', 'GRN', 'IND', 'LNP', 'ONP', 'OTH', 'TEAL'].index(idx)\n",
    "    if type(y)==pd.Series:\n",
    "        yhat= y.to_numpy()\n",
    "    else:\n",
    "        yhat = y.copy()\n",
    "\n",
    "    eliminated = (yhat==0)\n",
    "\n",
    "    eliminated[idx] = True\n",
    "\n",
    "    eliminating_idx = idx\n",
    "\n",
    "    counter = 0\n",
    "    while sum(yhat[eliminated]>0):\n",
    "        flow = np.zeros_like(yhat)\n",
    "        flow[eliminating_idx] = 1\n",
    "        flow =  M @ flow\n",
    "\n",
    "        yhat = yhat + flow*yhat[idx]\n",
    "        yhat[eliminating_idx] = 0\n",
    "\n",
    "        yhat[yhat<tol] = 0\n",
    "        yhat = yhat / np.nansum(yhat)\n",
    "\n",
    "\n",
    "\n",
    "        valid_indices = np.where((eliminated) & (yhat.reshape(-1) > 0))[0]\n",
    "        if len(valid_indices)>0:\n",
    "            eliminating_idx = valid_indices[0]\n",
    "        else:\n",
    "            break\n",
    "\n",
    "        counter += 1\n",
    "        if counter > max_iter_sub:\n",
    "            break\n",
    "    \n",
    "    if type(y)==pd.Series:\n",
    "        return pd.Series(yhat, index=y.index)\n",
    "    return yhat\n",
    "\n",
    "def eliminate_indices(indices,y:np.array,M:np.array, tol=1e-4, max_iter_sub=1000):\n",
    "    yhat = y.copy()\n",
    "    for idx in indices:\n",
    "        yhat = eliminate_idx(idx,yhat,M,tol,max_iter_sub)\n",
    "    return yhat\n",
    "\n",
    "def eliminate_smallest(y:np.array,M:np.array, tol=1e-4, max_iter_sub=1000):\n",
    "    idx = np.where(y==np.min(y[y>0]))[0][0]\n",
    "    return eliminate_idx(idx,y,M,tol,max_iter_sub)\n",
    "\n",
    "def TCP(y:np.array,M:np.array, tol=1e-4, max_iter_sub=1000):\n",
    "    non_eliminated = sum(y>0)\n",
    "    yhat = y.copy()\n",
    "    while non_eliminated>2:\n",
    "        yhat = eliminate_smallest(yhat,M,tol,max_iter_sub)\n",
    "        non_eliminated = sum(yhat>0)\n",
    "    return yhat"
   ]
  },
  {
   "cell_type": "code",
   "execution_count": null,
   "metadata": {},
   "outputs": [],
   "source": []
  }
 ],
 "metadata": {
  "kernelspec": {
   "display_name": ".venv",
   "language": "python",
   "name": "python3"
  },
  "language_info": {
   "codemirror_mode": {
    "name": "ipython",
    "version": 3
   },
   "file_extension": ".py",
   "mimetype": "text/x-python",
   "name": "python",
   "nbconvert_exporter": "python",
   "pygments_lexer": "ipython3",
   "version": "3.12.3"
  }
 },
 "nbformat": 4,
 "nbformat_minor": 2
}
