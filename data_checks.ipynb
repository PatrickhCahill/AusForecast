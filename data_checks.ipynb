{
 "cells": [
  {
   "cell_type": "code",
   "execution_count": 2,
   "metadata": {},
   "outputs": [],
   "source": [
    "# This is a Jupyter notebook to check the data\n",
    "# This section checks the data in data/other_data\n",
    "    \n",
    "# Importing libraries\n",
    "import pandas as pd"
   ]
  },
  {
   "cell_type": "code",
   "execution_count": 3,
   "metadata": {},
   "outputs": [
    {
     "data": {
      "text/html": [
       "<div>\n",
       "<style scoped>\n",
       "    .dataframe tbody tr th:only-of-type {\n",
       "        vertical-align: middle;\n",
       "    }\n",
       "\n",
       "    .dataframe tbody tr th {\n",
       "        vertical-align: top;\n",
       "    }\n",
       "\n",
       "    .dataframe thead th {\n",
       "        text-align: right;\n",
       "    }\n",
       "</style>\n",
       "<table border=\"1\" class=\"dataframe\">\n",
       "  <thead>\n",
       "    <tr style=\"text-align: right;\">\n",
       "      <th></th>\n",
       "      <th>seat_id</th>\n",
       "      <th>seat_name</th>\n",
       "      <th>sitting_member_id</th>\n",
       "      <th>sitting_party_id</th>\n",
       "      <th>state</th>\n",
       "      <th>region</th>\n",
       "    </tr>\n",
       "  </thead>\n",
       "  <tbody>\n",
       "    <tr>\n",
       "      <th>0</th>\n",
       "      <td>2</td>\n",
       "      <td>Deakin</td>\n",
       "      <td>2</td>\n",
       "      <td>2</td>\n",
       "      <td>Victoria</td>\n",
       "      <td>Eastern Melbourne</td>\n",
       "    </tr>\n",
       "    <tr>\n",
       "      <th>1</th>\n",
       "      <td>3</td>\n",
       "      <td>Adelaide</td>\n",
       "      <td>4</td>\n",
       "      <td>3</td>\n",
       "      <td>South Australia</td>\n",
       "      <td>Central Adelaide</td>\n",
       "    </tr>\n",
       "    <tr>\n",
       "      <th>2</th>\n",
       "      <td>4</td>\n",
       "      <td>Aston</td>\n",
       "      <td>6</td>\n",
       "      <td>3</td>\n",
       "      <td>Victoria</td>\n",
       "      <td>Eastern Melbourne</td>\n",
       "    </tr>\n",
       "    <tr>\n",
       "      <th>3</th>\n",
       "      <td>5</td>\n",
       "      <td>Ballarat</td>\n",
       "      <td>8</td>\n",
       "      <td>3</td>\n",
       "      <td>Victoria</td>\n",
       "      <td>Central Victoria</td>\n",
       "    </tr>\n",
       "    <tr>\n",
       "      <th>4</th>\n",
       "      <td>6</td>\n",
       "      <td>Banks</td>\n",
       "      <td>9</td>\n",
       "      <td>2</td>\n",
       "      <td>New South Wales</td>\n",
       "      <td>Southern Sydney</td>\n",
       "    </tr>\n",
       "  </tbody>\n",
       "</table>\n",
       "</div>"
      ],
      "text/plain": [
       "   seat_id seat_name  sitting_member_id  sitting_party_id            state  \\\n",
       "0        2    Deakin                  2                 2         Victoria   \n",
       "1        3  Adelaide                  4                 3  South Australia   \n",
       "2        4     Aston                  6                 3         Victoria   \n",
       "3        5  Ballarat                  8                 3         Victoria   \n",
       "4        6     Banks                  9                 2  New South Wales   \n",
       "\n",
       "              region  \n",
       "0  Eastern Melbourne  \n",
       "1   Central Adelaide  \n",
       "2  Eastern Melbourne  \n",
       "3   Central Victoria  \n",
       "4    Southern Sydney  "
      ]
     },
     "execution_count": 3,
     "metadata": {},
     "output_type": "execute_result"
    }
   ],
   "source": [
    "seat_data = pd.read_csv('data/other_data/seats.csv')\n",
    "seat_data.head()\n"
   ]
  },
  {
   "cell_type": "code",
   "execution_count": 47,
   "metadata": {},
   "outputs": [
    {
     "name": "stdout",
     "output_type": "stream",
     "text": [
      "Number of seats: 150\n",
      "\n",
      "Number of seats by state:\n",
      "state\n",
      "Australian Capital Territory     3\n",
      "New South Wales                 46\n",
      "Northern Territory               2\n",
      "Queensland                      30\n",
      "South Australia                 10\n",
      "Tasmania                         5\n",
      "Victoria                        38\n",
      "Western Australia               16\n",
      "Name: seat_id, dtype: int64\n",
      "\n"
     ]
    }
   ],
   "source": [
    "# Print number of seats and number of seats grouped by state\n",
    "num_seats = seat_data.shape[0]\n",
    "print(f'Number of seats: {num_seats}')\n",
    "print('')\n",
    "\n",
    "# Print number of seats grouped by state\n",
    "print(\"Number of seats by state:\")\n",
    "print(seat_data.groupby('state')['seat_id'].count())\n",
    "print('')"
   ]
  },
  {
   "cell_type": "code",
   "execution_count": 48,
   "metadata": {},
   "outputs": [
    {
     "data": {
      "text/html": [
       "<div>\n",
       "<style scoped>\n",
       "    .dataframe tbody tr th:only-of-type {\n",
       "        vertical-align: middle;\n",
       "    }\n",
       "\n",
       "    .dataframe tbody tr th {\n",
       "        vertical-align: top;\n",
       "    }\n",
       "\n",
       "    .dataframe thead th {\n",
       "        text-align: right;\n",
       "    }\n",
       "</style>\n",
       "<table border=\"1\" class=\"dataframe\">\n",
       "  <thead>\n",
       "    <tr style=\"text-align: right;\">\n",
       "      <th></th>\n",
       "      <th>party_id</th>\n",
       "      <th>name</th>\n",
       "      <th>short_name</th>\n",
       "      <th>abbreviation</th>\n",
       "      <th>colour</th>\n",
       "    </tr>\n",
       "  </thead>\n",
       "  <tbody>\n",
       "    <tr>\n",
       "      <th>0</th>\n",
       "      <td>2</td>\n",
       "      <td>Liberal Party of Australia</td>\n",
       "      <td>Liberals</td>\n",
       "      <td>LP</td>\n",
       "      <td>blue</td>\n",
       "    </tr>\n",
       "    <tr>\n",
       "      <th>1</th>\n",
       "      <td>3</td>\n",
       "      <td>Australian Labor Party</td>\n",
       "      <td>Labor</td>\n",
       "      <td>ALP</td>\n",
       "      <td>red</td>\n",
       "    </tr>\n",
       "    <tr>\n",
       "      <th>2</th>\n",
       "      <td>4</td>\n",
       "      <td>One Nation Party</td>\n",
       "      <td>One Nation</td>\n",
       "      <td>ONP</td>\n",
       "      <td>orange</td>\n",
       "    </tr>\n",
       "    <tr>\n",
       "      <th>3</th>\n",
       "      <td>5</td>\n",
       "      <td>Teal Independent</td>\n",
       "      <td>Teal</td>\n",
       "      <td>TIN</td>\n",
       "      <td>teal</td>\n",
       "    </tr>\n",
       "    <tr>\n",
       "      <th>4</th>\n",
       "      <td>6</td>\n",
       "      <td>National Party of Australia</td>\n",
       "      <td>Nationals</td>\n",
       "      <td>NP</td>\n",
       "      <td>darkgreen</td>\n",
       "    </tr>\n",
       "  </tbody>\n",
       "</table>\n",
       "</div>"
      ],
      "text/plain": [
       "   party_id                         name  short_name abbreviation     colour\n",
       "0         2   Liberal Party of Australia    Liberals           LP       blue\n",
       "1         3       Australian Labor Party       Labor          ALP        red\n",
       "2         4             One Nation Party  One Nation          ONP     orange\n",
       "3         5             Teal Independent        Teal          TIN       teal\n",
       "4         6  National Party of Australia   Nationals           NP  darkgreen"
      ]
     },
     "execution_count": 48,
     "metadata": {},
     "output_type": "execute_result"
    }
   ],
   "source": [
    "parties_data = pd.read_csv('data/other_data/parties.csv')\n",
    "parties_data.head()"
   ]
  },
  {
   "cell_type": "code",
   "execution_count": 49,
   "metadata": {},
   "outputs": [
    {
     "data": {
      "text/plain": [
       "Labor                77\n",
       "Liberals             24\n",
       "Liberal Nationals    21\n",
       "Nationals             9\n",
       "Teal                  7\n",
       "Independent           5\n",
       "Greens                4\n",
       "No Party Yet          1\n",
       "Katter Party          1\n",
       "Centre Alliance       1\n",
       "Name: short_name, dtype: int64"
      ]
     },
     "execution_count": 49,
     "metadata": {},
     "output_type": "execute_result"
    }
   ],
   "source": [
    "seat_data[['sitting_party_id','seat_id']].merge(parties_data[['party_id','short_name']], \n",
    "                                                left_on='sitting_party_id', \n",
    "                                                right_on='party_id')['short_name'].value_counts(dropna=False)"
   ]
  },
  {
   "cell_type": "code",
   "execution_count": null,
   "metadata": {},
   "outputs": [],
   "source": []
  }
 ],
 "metadata": {
  "kernelspec": {
   "display_name": ".venv",
   "language": "python",
   "name": "python3"
  },
  "language_info": {
   "codemirror_mode": {
    "name": "ipython",
    "version": 3
   },
   "file_extension": ".py",
   "mimetype": "text/x-python",
   "name": "python",
   "nbconvert_exporter": "python",
   "pygments_lexer": "ipython3",
   "version": "3.12.3"
  }
 },
 "nbformat": 4,
 "nbformat_minor": 2
}
